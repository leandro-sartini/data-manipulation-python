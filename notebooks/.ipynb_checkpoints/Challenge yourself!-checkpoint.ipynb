{
 "cells": [
  {
   "cell_type": "markdown",
   "id": "6ea211fa",
   "metadata": {},
   "source": [
    "## Mess with python!!\n",
    "\n",
    "- On the exercise_data folder we've got quite a few data that came from the titanic dataset and we have covered with missing/wrong values, work with it, clean it merge and concat!\n",
    "\n",
    "### Train and do it yourself. Enjoy!"
   ]
  },
  {
   "cell_type": "code",
   "execution_count": 1,
   "id": "997c489a",
   "metadata": {},
   "outputs": [],
   "source": [
    "import pandas as pd\n",
    "import numpy as np"
   ]
  },
  {
   "cell_type": "code",
   "execution_count": null,
   "id": "6b98f67e",
   "metadata": {},
   "outputs": [],
   "source": []
  }
 ],
 "metadata": {
  "kernelspec": {
   "display_name": "Python 3 (ipykernel)",
   "language": "python",
   "name": "python3"
  },
  "language_info": {
   "codemirror_mode": {
    "name": "ipython",
    "version": 3
   },
   "file_extension": ".py",
   "mimetype": "text/x-python",
   "name": "python",
   "nbconvert_exporter": "python",
   "pygments_lexer": "ipython3",
   "version": "3.11.5"
  }
 },
 "nbformat": 4,
 "nbformat_minor": 5
}
